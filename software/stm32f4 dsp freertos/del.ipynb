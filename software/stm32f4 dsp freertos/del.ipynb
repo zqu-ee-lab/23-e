{
 "cells": [
  {
   "cell_type": "code",
   "execution_count": 1,
   "id": "5c74d7e6",
   "metadata": {},
   "outputs": [],
   "source": [
    "import shutil,os\n",
    "shutil.rmtree(r'Listing')\n",
    "os.mkdir(r'Listing')\n",
    "shutil.rmtree(r'Output')  \n",
    "os.mkdir(r'Output')  "
   ]
  }
 ],
 "metadata": {
  "kernelspec": {
   "display_name": "Python 3 (ipykernel)",
   "language": "python",
   "name": "python3"
  },
  "language_info": {
   "codemirror_mode": {
    "name": "ipython",
    "version": 3
   },
   "file_extension": ".py",
   "mimetype": "text/x-python",
   "name": "python",
   "nbconvert_exporter": "python",
   "pygments_lexer": "ipython3",
   "version": "3.7.9"
  }
 },
 "nbformat": 4,
 "nbformat_minor": 5
}
